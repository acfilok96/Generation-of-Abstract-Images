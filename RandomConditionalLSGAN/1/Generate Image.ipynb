{
 "cells": [
  {
   "cell_type": "markdown",
   "id": "hawaiian-cheese",
   "metadata": {},
   "source": [
    "# Load Libraries"
   ]
  },
  {
   "cell_type": "code",
   "execution_count": 3,
   "id": "southeast-array",
   "metadata": {},
   "outputs": [],
   "source": [
    "import tensorflow\n",
    "import os,sys\n",
    "import numpy\n",
    "from numpy import cov\n",
    "from numpy import trace\n",
    "from numpy import iscomplexobj\n",
    "from numpy import asarray\n",
    "from numpy.random import shuffle\n",
    "from scipy.linalg import sqrtm\n",
    "from keras.applications.inception_v3 import InceptionV3\n",
    "from keras.applications.inception_v3 import preprocess_input\n",
    "from keras.datasets.mnist import load_data\n",
    "from skimage.transform import resize\n",
    "from keras.datasets import cifar10\n",
    "\n",
    "import numpy as np\n",
    "import random\n",
    "\n",
    "import tensorflow as tf\n",
    "random.seed(1)\n",
    "np.random.seed(1)\n",
    "tf.random.set_seed(2)"
   ]
  },
  {
   "cell_type": "code",
   "execution_count": 5,
   "id": "crucial-thesis",
   "metadata": {},
   "outputs": [],
   "source": [
    "import os\n",
    "# os.getcwd()\n",
    "# print(os.listdir())"
   ]
  },
  {
   "cell_type": "markdown",
   "id": "nonprofit-creativity",
   "metadata": {},
   "source": [
    "# Plot Function"
   ]
  },
  {
   "cell_type": "code",
   "execution_count": 31,
   "id": "sonic-engine",
   "metadata": {},
   "outputs": [],
   "source": [
    "import matplotlib.pyplot as plt\n",
    "def save_plot(x_input,n=4):\n",
    "    plt.figure(figsize=(10,7))\n",
    "    for i in range(n*n):\n",
    "        plt.subplot(n, n, i+1)\n",
    "        plt.imshow(x_input[i,:,:,:])\n",
    "        plt.axis('off')\n",
    "    plt.savefig(\"Generated Abstract Images.png\")\n",
    "    plt.show()"
   ]
  },
  {
   "cell_type": "markdown",
   "id": "median-resistance",
   "metadata": {},
   "source": [
    "# Load Generator Model"
   ]
  },
  {
   "cell_type": "code",
   "execution_count": 27,
   "id": "editorial-macintosh",
   "metadata": {},
   "outputs": [
    {
     "name": "stdout",
     "output_type": "stream",
     "text": [
      "WARNING:tensorflow:No training configuration found in the save file, so the model was *not* compiled. Compile it manually.\n"
     ]
    }
   ],
   "source": [
    "# load generator model\n",
    "generator = tensorflow.keras.models.load_model(\"generator_model_2.h5\")"
   ]
  },
  {
   "cell_type": "markdown",
   "id": "completed-grenada",
   "metadata": {},
   "source": [
    "# Generate Data"
   ]
  },
  {
   "cell_type": "code",
   "execution_count": 28,
   "id": "recreational-priest",
   "metadata": {},
   "outputs": [],
   "source": [
    "def generate_latent_points(latent_dim, n_samples):\n",
    "    x_input = randn(latent_dim * n_samples)\n",
    "    z_input = x_input.reshape(n_samples, latent_dim)\n",
    "    z = np.random.randint(0,5,size=(n_samples))\n",
    "    return [z_input,z]"
   ]
  },
  {
   "cell_type": "code",
   "execution_count": null,
   "id": "civic-repeat",
   "metadata": {},
   "outputs": [
    {
     "name": "stdout",
     "output_type": "stream",
     "text": [
      "2/4 [==============>...............] - ETA: 1s"
     ]
    }
   ],
   "source": [
    "from numpy import *\n",
    "from numpy.random import *\n",
    "\n",
    "# generated images\n",
    "latent_dim = 512\n",
    "n_samples = 100\n",
    "latent_points, labels = generate_latent_points(latent_dim= latent_dim, n_samples= n_samples)\n",
    "pred  = generator.predict([latent_points, labels])"
   ]
  },
  {
   "cell_type": "markdown",
   "id": "opponent-gasoline",
   "metadata": {},
   "source": [
    "# Plot Generated Data"
   ]
  },
  {
   "cell_type": "code",
   "execution_count": null,
   "id": "sonic-graham",
   "metadata": {},
   "outputs": [],
   "source": [
    "# Generated images\n",
    "X1 = pred[:100]\n",
    "X1 = (X1 + 1)/2.0\n",
    "save_plot(X1,n=6)"
   ]
  },
  {
   "cell_type": "code",
   "execution_count": null,
   "id": "therapeutic-confidence",
   "metadata": {},
   "outputs": [],
   "source": []
  }
 ],
 "metadata": {
  "kernelspec": {
   "display_name": "Python 3 (ipykernel)",
   "language": "python",
   "name": "python3"
  },
  "language_info": {
   "codemirror_mode": {
    "name": "ipython",
    "version": 3
   },
   "file_extension": ".py",
   "mimetype": "text/x-python",
   "name": "python",
   "nbconvert_exporter": "python",
   "pygments_lexer": "ipython3",
   "version": "3.9.12"
  }
 },
 "nbformat": 4,
 "nbformat_minor": 5
}
