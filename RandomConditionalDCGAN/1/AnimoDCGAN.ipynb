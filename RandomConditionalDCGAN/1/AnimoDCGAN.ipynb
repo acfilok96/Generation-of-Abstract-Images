{
 "cells": [
  {
   "cell_type": "markdown",
   "metadata": {
    "id": "i5UV5Im06Qg7"
   },
   "source": [
    "## Environment set up and import Libraries"
   ]
  },
  {
   "cell_type": "code",
   "execution_count": 19,
   "metadata": {
    "execution": {
     "iopub.execute_input": "2022-08-22T16:19:26.711942Z",
     "iopub.status.busy": "2022-08-22T16:19:26.711311Z",
     "iopub.status.idle": "2022-08-22T16:19:26.716763Z",
     "shell.execute_reply": "2022-08-22T16:19:26.715462Z",
     "shell.execute_reply.started": "2022-08-22T16:19:26.711905Z"
    },
    "id": "b-0LJOu1Jumr",
    "outputId": "1a412c93-62bf-452d-e37a-f0eca25d051a"
   },
   "outputs": [],
   "source": [
    "# from google.colab import drive\n",
    "# drive.mount('/content/drive')\n",
    "import os\n",
    "# os.getcwd()\n",
    "# os.listdir()"
   ]
  },
  {
   "cell_type": "code",
   "execution_count": 68,
   "metadata": {
    "execution": {
     "iopub.execute_input": "2022-08-22T16:19:26.723666Z",
     "iopub.status.busy": "2022-08-22T16:19:26.723382Z",
     "iopub.status.idle": "2022-08-22T16:19:26.728806Z",
     "shell.execute_reply": "2022-08-22T16:19:26.727725Z",
     "shell.execute_reply.started": "2022-08-22T16:19:26.723639Z"
    }
   },
   "outputs": [],
   "source": [
    "import warnings\n",
    "warnings.filterwarnings(\"ignore\")"
   ]
  },
  {
   "cell_type": "code",
   "execution_count": 69,
   "metadata": {
    "execution": {
     "iopub.execute_input": "2022-08-22T16:19:26.731262Z",
     "iopub.status.busy": "2022-08-22T16:19:26.730914Z",
     "iopub.status.idle": "2022-08-22T16:19:26.744116Z",
     "shell.execute_reply": "2022-08-22T16:19:26.743153Z",
     "shell.execute_reply.started": "2022-08-22T16:19:26.731225Z"
    },
    "id": "izI8Tcx5Sswy",
    "outputId": "90a14a0b-5b15-4d56-ceb7-36e026210706"
   },
   "outputs": [],
   "source": [
    "import tensorflow as tf\n",
    "device_name = tf.test.gpu_device_name()\n",
    "with tf.device(device_name):\n",
    "  print(device_name.split(\":\")[1],\" running . . . \")"
   ]
  },
  {
   "cell_type": "code",
   "execution_count": 3,
   "metadata": {
    "execution": {
     "iopub.execute_input": "2022-08-22T16:19:26.746874Z",
     "iopub.status.busy": "2022-08-22T16:19:26.746119Z",
     "iopub.status.idle": "2022-08-22T16:19:26.762438Z",
     "shell.execute_reply": "2022-08-22T16:19:26.761460Z",
     "shell.execute_reply.started": "2022-08-22T16:19:26.746835Z"
    },
    "id": "BZNKon484KfJ"
   },
   "outputs": [
    {
     "name": "stderr",
     "output_type": "stream",
     "text": [
      "C:\\Users\\Dipankar Porey\\anaconda3\\envs\\tensorflow_env\\lib\\site-packages\\scipy\\__init__.py:146: UserWarning: A NumPy version >=1.16.5 and <1.23.0 is required for this version of SciPy (detected version 1.23.1\n",
      "  warnings.warn(f\"A NumPy version >={np_minversion} and <{np_maxversion}\"\n"
     ]
    }
   ],
   "source": [
    "import tensorflow as tf\n",
    "import os,sys\n",
    "import numpy as np\n",
    "import random\n",
    "\n",
    "random.seed(1)\n",
    "np.random.seed(1)\n",
    "tf.random.set_seed(2)"
   ]
  },
  {
   "cell_type": "code",
   "execution_count": 71,
   "metadata": {
    "execution": {
     "iopub.execute_input": "2022-08-22T16:19:26.769857Z",
     "iopub.status.busy": "2022-08-22T16:19:26.769499Z",
     "iopub.status.idle": "2022-08-22T16:19:26.778635Z",
     "shell.execute_reply": "2022-08-22T16:19:26.777585Z",
     "shell.execute_reply.started": "2022-08-22T16:19:26.769825Z"
    },
    "id": "U7Vkit2dTCvS"
   },
   "outputs": [],
   "source": [
    "import os, keras, numpy,tensorflow\n",
    "from sklearn.model_selection import train_test_split\n",
    "import matplotlib.pyplot as plt\n",
    "from numpy import *\n",
    "from numpy.random import *\n",
    "from keras.datasets.fashion_mnist import load_data\n",
    "from keras.datasets import mnist\n",
    "from tensorflow.keras.optimizers import Adam\n",
    "from keras.models import Model\n",
    "from keras.layers import *\n",
    "from tensorflow.keras import initializers"
   ]
  },
  {
   "cell_type": "markdown",
   "metadata": {
    "id": "1V1zVhkQ6V1P"
   },
   "source": [
    "## **Discriminator** Model"
   ]
  },
  {
   "cell_type": "code",
   "execution_count": 72,
   "metadata": {
    "execution": {
     "iopub.execute_input": "2022-08-22T16:19:26.783171Z",
     "iopub.status.busy": "2022-08-22T16:19:26.781973Z",
     "iopub.status.idle": "2022-08-22T16:19:26.899537Z",
     "shell.execute_reply": "2022-08-22T16:19:26.898326Z",
     "shell.execute_reply.started": "2022-08-22T16:19:26.783143Z"
    },
    "id": "13b25edNTGV5",
    "outputId": "8b2c0eee-b36b-4406-cc75-420aafb8da92"
   },
   "outputs": [],
   "source": [
    "def define_discriminator(in_shape=(64,64,3),n_classes=5):\n",
    "\n",
    "    # input level\n",
    "    label_layer_1 = Input(shape=(1,), name = \"input_label\")\n",
    "    label_layer_2 = Embedding(n_classes, 100)(label_layer_1)\n",
    "    label_layer_3 = Dense(in_shape[0] * in_shape[1])(label_layer_2)\n",
    "    label_layer_4 = Reshape((in_shape[0], in_shape[1], 1))(label_layer_3)\n",
    "    # (64, 64, 1)\n",
    "\n",
    "    # input image\n",
    "    input_image = Input(shape=in_shape, name = \"input_image\")\n",
    "    # (64, 64, 3)\n",
    "\n",
    "    concat_layer = Concatenate()([input_image, label_layer_4])\n",
    "    # (64, 64, 4)\n",
    "\n",
    "    conv2d_layer_1 = Conv2D(filters = 16, kernel_size = (3,3), strides = (2,2), padding='same')(concat_layer)\n",
    "    conv2d_layer_1 = LeakyReLU(alpha=0.3)(conv2d_layer_1)\n",
    "    # (32, 32, 16)\n",
    "\n",
    "    conv2d_layer_2 = Conv2D(filters = 32, kernel_size = (3,3), strides = (2,2), padding = 'same')(conv2d_layer_1)\n",
    "    conv2d_layer_2 = LeakyReLU(alpha=0.3)(conv2d_layer_2)\n",
    "    # (16, 16, 32)\n",
    "\n",
    "    conv2d_layer_3 = Conv2D(filters = 64, kernel_size = (3,3),  strides = (2,2), padding = 'same')(conv2d_layer_2)\n",
    "    conv2d_layer_3 = LeakyReLU(alpha=0.3)(conv2d_layer_3)\n",
    "    # (8, 8, 64)\n",
    "\n",
    "    conv2d_layer_4 = Conv2D(filters = 128, kernel_size = (3,3), strides = (2,2), padding = 'same')(conv2d_layer_3)\n",
    "    conv2d_layer_4 = LeakyReLU(alpha=0.3)(conv2d_layer_4)\n",
    "    # (4, 4, 128)\n",
    "\n",
    "    flatten_layer = Flatten()(conv2d_layer_4)\n",
    "    # (4 * 4 * 128)\n",
    "\n",
    "    dropout_layer = Dropout(rate=0.4)(flatten_layer)\n",
    "    # (4 * 4 * 128)\n",
    "\n",
    "    dense_layer = Dense(128*8, activation='relu')(dropout_layer)\n",
    "    # (8 * 128)\n",
    "\n",
    "    # final layer\n",
    "    output_layer = Dense(1, activation='sigmoid')(dense_layer)\n",
    "    # (1,)\n",
    "\n",
    "    model = Model([input_image,label_layer_1], output_layer)\n",
    "\n",
    "    opt = Adam(learning_rate= 3e-4, beta_1=0.5)\n",
    "    model.compile(loss='binary_crossentropy', optimizer=opt, metrics=['accuracy'])\n",
    "    return model\n",
    "\n",
    "a = define_discriminator()\n",
    "a.summary()"
   ]
  },
  {
   "cell_type": "code",
   "execution_count": 73,
   "metadata": {
    "execution": {
     "iopub.execute_input": "2022-08-22T16:19:26.901634Z",
     "iopub.status.busy": "2022-08-22T16:19:26.901251Z",
     "iopub.status.idle": "2022-08-22T16:19:27.192678Z",
     "shell.execute_reply": "2022-08-22T16:19:27.191580Z",
     "shell.execute_reply.started": "2022-08-22T16:19:26.901597Z"
    },
    "id": "f4D-H0p65xNd",
    "outputId": "7e9c12d5-7d84-427b-97c8-acb4e534b6bc"
   },
   "outputs": [],
   "source": [
    "# plot the discriminator model\n",
    "tf.keras.utils.plot_model(a,to_file='discriminator.png',show_shapes=True,show_layer_names=True)"
   ]
  },
  {
   "cell_type": "markdown",
   "metadata": {
    "id": "As6FQBwl6jjG"
   },
   "source": [
    "## **Generator** Model"
   ]
  },
  {
   "cell_type": "code",
   "execution_count": 74,
   "metadata": {
    "execution": {
     "iopub.execute_input": "2022-08-22T16:19:27.196894Z",
     "iopub.status.busy": "2022-08-22T16:19:27.196143Z",
     "iopub.status.idle": "2022-08-22T16:19:27.381960Z",
     "shell.execute_reply": "2022-08-22T16:19:27.381052Z",
     "shell.execute_reply.started": "2022-08-22T16:19:27.196846Z"
    },
    "id": "0GfMsg2WTJUK",
    "outputId": "88d03587-0d77-4ea3-8703-1d35c1fd05f8"
   },
   "outputs": [],
   "source": [
    "def define_generator(latent_dim = 100, n_classes = 5):\n",
    "\n",
    "    # input level\n",
    "    label_layer_1 = Input(shape=(1,), name = \"input_label\")\n",
    "    label_layer_2 = Embedding(n_classes, 100)(label_layer_1)\n",
    "    label_layer_3 = Dense(8 * 8)(label_layer_2)\n",
    "    label_layer_4 = Reshape((8, 8, 1))(label_layer_3)\n",
    "    # (8, 8, 1)\n",
    "\n",
    "    # latent input\n",
    "    latent_layer = Input(shape=(latent_dim,), name = \"input_latent\")\n",
    "\n",
    "    layer_2 = Dense(128 * 8 * 8)(latent_layer)\n",
    "    layer_2 = Activation(\"relu\")(layer_2)\n",
    "    layer_2 = Reshape((8, 8, 128))(layer_2)\n",
    "    layer_2_1 = BatchNormalization(momentum = 0.8)(layer_2)\n",
    "    # (8, 8, 128)\n",
    "\n",
    "\n",
    "    concat_layer_1 = Concatenate()([layer_2_1, label_layer_4])\n",
    "    # (8, 8, 129)\n",
    "\n",
    "    layer_3 = Conv2DTranspose(filters = 128, kernel_size = (3,3), strides=(2,2), padding='same')(concat_layer_1)\n",
    "    layer_3 = Conv2D(filters = 128, kernel_size = (3,3), padding='same', kernel_initializer = initializers.RandomNormal(0,0.8))(layer_3)\n",
    "    layer_3 = BatchNormalization(momentum = 0.8)(layer_3)\n",
    "    layer_3 = LeakyReLU(alpha=0.4)(layer_3)\n",
    "    # (16, 16, 128)\n",
    "\n",
    "    layer_4 = Conv2DTranspose(filters = 128, kernel_size = (3,3), strides=(2,2), padding='same')(layer_3)\n",
    "    layer_4 = Conv2D(filters = 128, kernel_size = (3,3), padding='same',kernel_initializer = initializers.RandomNormal(0,0.8))(layer_4)\n",
    "    layer_4 = BatchNormalization(momentum = 0.8)(layer_4)\n",
    "    layer_4 = LeakyReLU(alpha=0.4)(layer_4)\n",
    "    # (32, 32, 128)\n",
    "\n",
    "    layer_5 = Conv2DTranspose(filters = 256, kernel_size = (3,3), strides=(2,2), padding='same')(layer_4)\n",
    "    layer_5 = Conv2D(filters = 256, kernel_size = (3,3), padding='same',kernel_initializer = initializers.RandomNormal(0,0.8))(layer_5)\n",
    "    layer_5 = BatchNormalization(momentum = 0.8)(layer_5)\n",
    "    layer_5 = LeakyReLU(alpha=0.4)(layer_5)\n",
    "    # (64, 64, 128)\n",
    "\n",
    "    # final layer\n",
    "    output_layer = Conv2D(filters = 3, kernel_size = (3,3), strides=(1,1), activation='tanh', padding='same')(layer_5)\n",
    "\n",
    "    model = Model([latent_layer,label_layer_1], output_layer)\n",
    "    return model\n",
    "\n",
    "b = define_generator(512)\n",
    "b.summary()"
   ]
  },
  {
   "cell_type": "code",
   "execution_count": 75,
   "metadata": {
    "execution": {
     "iopub.execute_input": "2022-08-22T16:19:27.383936Z",
     "iopub.status.busy": "2022-08-22T16:19:27.383572Z",
     "iopub.status.idle": "2022-08-22T16:19:27.705563Z",
     "shell.execute_reply": "2022-08-22T16:19:27.704418Z",
     "shell.execute_reply.started": "2022-08-22T16:19:27.383899Z"
    },
    "id": "uOab7yJz55vE",
    "outputId": "eae56d3a-3d38-46b3-91d7-8c7f9a185493"
   },
   "outputs": [],
   "source": [
    "# plot the generator model\n",
    "tf.keras.utils.plot_model(b,to_file='generator.png',show_shapes=True,show_layer_names=True)"
   ]
  },
  {
   "cell_type": "markdown",
   "metadata": {
    "id": "K74ltFTw63K_"
   },
   "source": [
    "## **Combine** or **GAN** Model"
   ]
  },
  {
   "cell_type": "code",
   "execution_count": 76,
   "metadata": {
    "execution": {
     "iopub.execute_input": "2022-08-22T16:19:27.708420Z",
     "iopub.status.busy": "2022-08-22T16:19:27.707835Z",
     "iopub.status.idle": "2022-08-22T16:19:27.786227Z",
     "shell.execute_reply": "2022-08-22T16:19:27.785110Z",
     "shell.execute_reply.started": "2022-08-22T16:19:27.708381Z"
    },
    "id": "KmspouGiTLhn",
    "outputId": "70cb1221-a21b-4dd9-abb5-a4bb8f0adc08"
   },
   "outputs": [],
   "source": [
    "def define_gan(g_model, d_model):\n",
    "\n",
    "  d_model.trainable = False\n",
    "\n",
    "  g_latent, g_label = g_model.input\n",
    "  g_output = g_model.output\n",
    "\n",
    "  d_output = d_model([g_output,g_label])\n",
    "\n",
    "  model = Model([g_latent, g_label], d_output)\n",
    "\n",
    "  opt = Adam(learning_rate= 3e-4, beta_1=0.5)\n",
    "  model.compile(loss='binary_crossentropy', optimizer=opt,  metrics=['accuracy'])\n",
    "  \n",
    "  return model\n",
    "c = define_gan(b, a)\n",
    "c.summary()"
   ]
  },
  {
   "cell_type": "code",
   "execution_count": 77,
   "metadata": {
    "execution": {
     "iopub.execute_input": "2022-08-22T16:19:27.788494Z",
     "iopub.status.busy": "2022-08-22T16:19:27.788094Z",
     "iopub.status.idle": "2022-08-22T16:19:28.144745Z",
     "shell.execute_reply": "2022-08-22T16:19:28.143611Z",
     "shell.execute_reply.started": "2022-08-22T16:19:27.788456Z"
    },
    "id": "Zuaon8Y75-Ps",
    "outputId": "6174caef-b459-4605-b569-194ba23131f2"
   },
   "outputs": [],
   "source": [
    "# plot GAN model\n",
    "tf.keras.utils.plot_model(c,to_file='combined_gan.png',show_shapes=True,show_layer_names=True)"
   ]
  },
  {
   "cell_type": "markdown",
   "metadata": {
    "id": "qgckUXEo7DxG"
   },
   "source": [
    "## Load Dataset"
   ]
  },
  {
   "cell_type": "code",
   "execution_count": 78,
   "metadata": {
    "execution": {
     "iopub.execute_input": "2022-08-22T16:19:28.147316Z",
     "iopub.status.busy": "2022-08-22T16:19:28.146771Z",
     "iopub.status.idle": "2022-08-22T16:19:28.154601Z",
     "shell.execute_reply": "2022-08-22T16:19:28.153271Z",
     "shell.execute_reply.started": "2022-08-22T16:19:28.147278Z"
    },
    "id": "VhzajBRw4wxU",
    "outputId": "119a1dca-dd04-4776-f450-28d4fddb294d"
   },
   "outputs": [],
   "source": [
    "def load_real_samples():\n",
    "  # load dataset\n",
    "  data = np.load(\"../input/animo30k/Animo30k.npz\")\n",
    "  data = data['a']\n",
    "  data = np.array(data)\n",
    "  X = data.astype('float32')\n",
    "  # scale from [0,255] to [-1,1]\n",
    "  X = (X - 127.5) / 127.5\n",
    "  return X\n",
    "# k = load_real_samples()\n",
    "# print(\"image: \",k.shape)\n",
    "# print(\"\\nshape/size of the first 16 data: \",k[:16].shape)"
   ]
  },
  {
   "cell_type": "markdown",
   "metadata": {
    "id": "tDrk7zuwJoN9"
   },
   "source": [
    "## Plot data with label"
   ]
  },
  {
   "cell_type": "code",
   "execution_count": 79,
   "metadata": {
    "execution": {
     "iopub.execute_input": "2022-08-22T16:19:28.161795Z",
     "iopub.status.busy": "2022-08-22T16:19:28.160942Z",
     "iopub.status.idle": "2022-08-22T16:19:28.169158Z",
     "shell.execute_reply": "2022-08-22T16:19:28.168186Z",
     "shell.execute_reply.started": "2022-08-22T16:19:28.161764Z"
    },
    "id": "ADMcakmWTN60",
    "outputId": "04ae52f7-22d9-4d72-b8cc-314cf92a3316"
   },
   "outputs": [],
   "source": [
    "def save_plot(x_input,n=4):\n",
    "    plt.figure(figsize=(10,7))\n",
    "    for i in range(n*n):\n",
    "        plt.subplot(n, n, i+1)\n",
    "        plt.imshow(x_input[i,:,:,:])\n",
    "        plt.axis('off')\n",
    "    plt.show()\n",
    "# plot data\n",
    "# save_plot(k[:16])"
   ]
  },
  {
   "cell_type": "markdown",
   "metadata": {
    "id": "JcmHiLEK8HQP"
   },
   "source": [
    "## Generate real sample function"
   ]
  },
  {
   "cell_type": "code",
   "execution_count": 80,
   "metadata": {
    "execution": {
     "iopub.execute_input": "2022-08-22T16:19:28.172668Z",
     "iopub.status.busy": "2022-08-22T16:19:28.171463Z",
     "iopub.status.idle": "2022-08-22T16:19:28.179385Z",
     "shell.execute_reply": "2022-08-22T16:19:28.178377Z",
     "shell.execute_reply.started": "2022-08-22T16:19:28.172630Z"
    },
    "id": "uR1tkpInTQq4",
    "outputId": "a1cf3054-9553-468d-d5a4-44d1c75dc579"
   },
   "outputs": [],
   "source": [
    "def generate_real_samples(dataset, n_samples):\n",
    "\timages = dataset\n",
    "\tix = randint(0, images.shape[0], n_samples)\n",
    "\tX = images[ix]\n",
    "\tz = np.random.randint(0,5,size=(n_samples))\n",
    "\ty = ones((n_samples, 1))\n",
    "\treturn [X,z], y\n",
    "# d = generate_real_samples(k, 32)\n",
    "# print(\"Generate real data as a batch randomly: \",d[0][0].shape)"
   ]
  },
  {
   "cell_type": "markdown",
   "metadata": {
    "id": "9MQHAJ0P8kPF"
   },
   "source": [
    "## Generate latent point function"
   ]
  },
  {
   "cell_type": "code",
   "execution_count": 81,
   "metadata": {
    "execution": {
     "iopub.execute_input": "2022-08-22T16:19:28.181643Z",
     "iopub.status.busy": "2022-08-22T16:19:28.180927Z",
     "iopub.status.idle": "2022-08-22T16:19:28.190389Z",
     "shell.execute_reply": "2022-08-22T16:19:28.189361Z",
     "shell.execute_reply.started": "2022-08-22T16:19:28.181606Z"
    },
    "id": "Fv9g2IJXTSpw",
    "outputId": "62f7a05b-0426-4498-a2a6-1eebae522f63"
   },
   "outputs": [],
   "source": [
    "def generate_latent_points(latent_dim, n_samples):\n",
    "  x_input = randn(latent_dim * n_samples)\n",
    "  z_input = x_input.reshape(n_samples, latent_dim)\n",
    "  z = np.random.randint(0,5,size=(n_samples))\n",
    "  return [z_input,z]\n",
    "# p = generate_latent_points(512, 32)\n",
    "# print(\"Generate latent point(with label) as a batch: \",p[0].shape)"
   ]
  },
  {
   "cell_type": "markdown",
   "metadata": {
    "id": "_IAEwd9V9GsR"
   },
   "source": [
    "## Generate Fake samples of image with label"
   ]
  },
  {
   "cell_type": "code",
   "execution_count": 82,
   "metadata": {
    "execution": {
     "iopub.execute_input": "2022-08-22T16:19:28.192118Z",
     "iopub.status.busy": "2022-08-22T16:19:28.191837Z",
     "iopub.status.idle": "2022-08-22T16:19:28.203059Z",
     "shell.execute_reply": "2022-08-22T16:19:28.202139Z",
     "shell.execute_reply.started": "2022-08-22T16:19:28.192087Z"
    },
    "id": "qTcS-0Ou42nA",
    "outputId": "ad07cc58-cd99-4398-cb84-3b5af2580ce4"
   },
   "outputs": [],
   "source": [
    "def generate_fake_samples(generator, latent_dim, n_samples):\n",
    "\tz_input,z = generate_latent_points(latent_dim, n_samples)\n",
    "\timages = generator.predict([z_input,z])\n",
    "\ty = zeros((n_samples, 1))\n",
    "\treturn [images, z], y\n",
    "# with tf.device(device_name):\n",
    "# \tkh = generate_fake_samples(b, 512, 32)\n",
    "# \tprint(\"shape of the generated images: \",kh[0][0].shape)"
   ]
  },
  {
   "cell_type": "markdown",
   "metadata": {
    "id": "9Pb6LIHF9mZM"
   },
   "source": [
    "## Summarize the generator model"
   ]
  },
  {
   "cell_type": "code",
   "execution_count": 83,
   "metadata": {
    "execution": {
     "iopub.execute_input": "2022-08-22T16:19:28.205854Z",
     "iopub.status.busy": "2022-08-22T16:19:28.204596Z",
     "iopub.status.idle": "2022-08-22T16:19:28.212063Z",
     "shell.execute_reply": "2022-08-22T16:19:28.211121Z",
     "shell.execute_reply.started": "2022-08-22T16:19:28.205816Z"
    },
    "id": "7c0-Luo746t2"
   },
   "outputs": [],
   "source": [
    "def summarize_the_model(generator,latent_dim = 100):\n",
    "    latent_points = generate_latent_points(latent_dim= latent_dim, n_samples= 16)\n",
    "    X  = generator.predict(latent_points)\n",
    "    # scale from [-1,1] to [0,1]\n",
    "    X = (X + 1) / 2.0\n",
    "    save_plot(X, n=4)"
   ]
  },
  {
   "cell_type": "code",
   "execution_count": 84,
   "metadata": {
    "execution": {
     "iopub.execute_input": "2022-08-22T16:19:28.214081Z",
     "iopub.status.busy": "2022-08-22T16:19:28.213592Z",
     "iopub.status.idle": "2022-08-22T16:19:28.223606Z",
     "shell.execute_reply": "2022-08-22T16:19:28.222413Z",
     "shell.execute_reply.started": "2022-08-22T16:19:28.214044Z"
    },
    "id": "AgkghuoxJMqv"
   },
   "outputs": [],
   "source": [
    "def save_figure(generator,a,latent_dim = 512,n=4):\n",
    "    latent_points, labels = generate_latent_points(latent_dim= latent_dim, n_samples= 16)\n",
    "    X  = generator.predict([latent_points, labels])\n",
    "    # plt.title(\"Epoch_\"+str(a+1),loc = \"center\")\n",
    "    for j in range(n*n):\n",
    "        plt.subplot(n, n, j+1)\n",
    "        plt.imshow(X[j,:,:,:])\n",
    "        plt.axis('off')\n",
    "    plt.suptitle(\"Epoch_\"+str(a+1))\n",
    "    plt.savefig(\"/content/drive/MyDrive/Animo/GAN_new_approch/1/epoch_\"+str(a+1))"
   ]
  },
  {
   "cell_type": "markdown",
   "metadata": {
    "id": "cWKEC8MA9tGE"
   },
   "source": [
    "## Train function"
   ]
  },
  {
   "cell_type": "code",
   "execution_count": 85,
   "metadata": {
    "execution": {
     "iopub.execute_input": "2022-08-22T16:19:28.226026Z",
     "iopub.status.busy": "2022-08-22T16:19:28.225659Z",
     "iopub.status.idle": "2022-08-22T16:19:28.239810Z",
     "shell.execute_reply": "2022-08-22T16:19:28.238677Z",
     "shell.execute_reply.started": "2022-08-22T16:19:28.225986Z"
    },
    "id": "VtrEiQruSiOE"
   },
   "outputs": [],
   "source": [
    "def train(g_model, d_model, gan_model, dataset, latent_dim= 100, n_epochs=3, n_batch=128):\n",
    "\n",
    "  print(\"No. of epoch: \",n_epochs)\n",
    "  bat_per_epo = int(dataset.shape[0] / n_batch)\n",
    "  print(\"Data size: \",dataset.shape[0])\n",
    "  print(\"batch per epoch: \", bat_per_epo)\n",
    "  print(\"full batch: \",n_batch)\n",
    "  half_batch = int(n_batch / 2)\n",
    "  print(\"half batch: \", half_batch,'\\n')\n",
    "  print(\"*\"*50,'\\n\\n')\n",
    "\n",
    "  d_loss_real_array,d_loss_fake_array =[],[]\n",
    "  g_loss_array = []\n",
    "  for i in range(n_epochs):\n",
    "    d_loss_r,d_loss_f = 0.0,0.0\n",
    "    g_loss = 0.0\n",
    "    \n",
    "    for j in range(bat_per_epo):\n",
    "\n",
    "      [X_real, labels_real], y_real = generate_real_samples(dataset, half_batch)\n",
    "      d_loss1, _ = d_model.train_on_batch([X_real, labels_real], y_real)\n",
    "      d_loss_r += (d_loss1 / half_batch)\n",
    "      # print(\"real_loss\")\n",
    "\n",
    "      [X_fake, labels], y_fake = generate_fake_samples(g_model, latent_dim, half_batch)\n",
    "      d_loss2, _ = d_model.train_on_batch([X_fake, labels], y_fake)\n",
    "      d_loss_f += (d_loss2 / half_batch)\n",
    "      # print(\"fake_loss\")\n",
    "\n",
    "      [z_input, labels_input] = generate_latent_points(latent_dim, n_batch)\n",
    "      y_gan = ones((n_batch, 1))\n",
    "      g_loss1,_ = gan_model.train_on_batch([z_input, labels_input], y_gan)\n",
    "      g_loss += (g_loss1 / n_batch)\n",
    "\n",
    "    d_loss_real_array.append(d_loss_r/bat_per_epo)\n",
    "    d_loss_fake_array.append(d_loss_f/bat_per_epo)\n",
    "    g_loss_array.append(g_loss/bat_per_epo)\n",
    "\n",
    "    print('epoch -> [%d/%d], discriminator_loss_for_real_data = %f, discriminator_loss_for_fake_data = %f, generator_loss = %f\\n' %(i+1, n_epochs, d_loss_r/bat_per_epo, d_loss_f/bat_per_epo, g_loss/bat_per_epo))\n",
    "    if((i+1)%5==0):\n",
    "        summarize_the_model(g_model,latent_dim)\n",
    "    g_model.save(\"generator_model_2.h5\")\n",
    "    np.savez_compressed('loss_record_2.npz', a=d_loss_real_array, b=d_loss_fake_array, c=g_loss_array)\n",
    "    # save_figure(g_model,i,latent_dim = 512,n=4)\n",
    "\n",
    "    print(\"\\n\")\n",
    "\n",
    "  return d_loss_real_array, d_loss_fake_array, g_loss_array"
   ]
  },
  {
   "cell_type": "markdown",
   "metadata": {
    "id": "nsaXTk2x987F"
   },
   "source": [
    "## Main function"
   ]
  },
  {
   "cell_type": "code",
   "execution_count": null,
   "metadata": {
    "execution": {
     "iopub.execute_input": "2022-08-22T16:19:28.242115Z",
     "iopub.status.busy": "2022-08-22T16:19:28.241549Z"
    },
    "id": "gMtQt5LfTY82",
    "outputId": "07e9579b-64d6-4735-c8c8-05aa67248036"
   },
   "outputs": [],
   "source": [
    "with tf.device(device_name):\n",
    "\n",
    "  latent_dim = 512\n",
    "  n_epochs = 80\n",
    "  n_batch = 32\n",
    "  d_model = define_discriminator()\n",
    "  g_model = define_generator(latent_dim)\n",
    "  gan_model = define_gan(g_model, d_model)\n",
    "  dataset = load_real_samples()\n",
    "  print('\\nREADY TO GO !!!\\n')\n",
    "  \n",
    "  d_loss_real_array, d_loss_fake_array, g_loss_array = train(g_model, d_model, gan_model, dataset, latent_dim, n_epochs, n_batch)"
   ]
  },
  {
   "cell_type": "markdown",
   "metadata": {
    "id": "zWkVxCBlxi3p"
   },
   "source": [
    "## Plot Loss Values"
   ]
  },
  {
   "cell_type": "code",
   "execution_count": null,
   "metadata": {
    "id": "L3aWl3VFrPaZ"
   },
   "outputs": [],
   "source": [
    "# g_model.save(\"/content/sample_data/generator_model_c_dcgan.h5\")"
   ]
  },
  {
   "cell_type": "code",
   "execution_count": 8,
   "metadata": {
    "id": "1EaPyJ2PKh_Y",
    "outputId": "dca5f862-2dd5-4ec0-82fa-b28ebd23b65e"
   },
   "outputs": [
    {
     "name": "stdout",
     "output_type": "stream",
     "text": [
      "(80,)\n",
      "(80,)\n"
     ]
    }
   ],
   "source": [
    "loaded = np.load('loss_record_2.npz')\n",
    "print(loaded['a'].shape)\n",
    "print(loaded['b'].shape)"
   ]
  },
  {
   "cell_type": "code",
   "execution_count": 13,
   "metadata": {
    "execution": {
     "iopub.execute_input": "2022-08-22T19:55:14.218672Z",
     "iopub.status.busy": "2022-08-22T19:55:14.218039Z",
     "iopub.status.idle": "2022-08-22T19:55:14.303803Z",
     "shell.execute_reply": "2022-08-22T19:55:14.302372Z",
     "shell.execute_reply.started": "2022-08-22T19:55:14.218558Z"
    },
    "id": "DPUEiC7tx4if"
   },
   "outputs": [],
   "source": [
    "import matplotlib.pyplot as plt\n",
    "\n",
    "d_loss_real_array = loaded['a']\n",
    "d_loss_fake_array = loaded['b']"
   ]
  },
  {
   "cell_type": "code",
   "execution_count": 14,
   "metadata": {
    "id": "zw228YsVuN0O"
   },
   "outputs": [],
   "source": [
    "d_loss = np.array([(i+j) for i,j in zip(d_loss, d_loss_fake_array)])"
   ]
  },
  {
   "cell_type": "code",
   "execution_count": 15,
   "metadata": {
    "id": "oMK7DxoPuGxL"
   },
   "outputs": [],
   "source": [
    "g_loss = loaded['c']"
   ]
  },
  {
   "cell_type": "code",
   "execution_count": 16,
   "metadata": {
    "id": "s5qYW8JZxlWt",
    "outputId": "086772f8-91b1-4ea6-e3e9-187dae780feb"
   },
   "outputs": [
    {
     "data": {
      "image/png": "[encoded data removed]",
      "text/plain": [
       "<Figure size 1080x504 with 1 Axes>"
      ]
     },
     "metadata": {
      "needs_background": "light"
     },
     "output_type": "display_data"
    }
   ],
   "source": [
    "plt.figure(figsize=(15,7))\n",
    "plt.plot(d_loss)\n",
    "plt.title('Discriminator Loss Graph')\n",
    "plt.ylabel('Discriminator Loss')\n",
    "plt.xlabel('epochs')\n",
    "plt.legend([\"Discriminator Loss\"], loc='upper right')\n",
    "plt.savefig(\"Discriminator_Loss_Graph\")\n",
    "plt.show()"
   ]
  },
  {
   "cell_type": "code",
   "execution_count": 17,
   "metadata": {
    "id": "Kla0HPDNymA1",
    "outputId": "1cbaa63e-d616-4132-a45e-f31e0524f956"
   },
   "outputs": [
    {
     "data": {
      "image/png": "[encoded data removed]",
      "text/plain": [
       "<Figure size 1080x504 with 1 Axes>"
      ]
     },
     "metadata": {
      "needs_background": "light"
     },
     "output_type": "display_data"
    }
   ],
   "source": [
    "plt.figure(figsize=(15,7))\n",
    "plt.plot(g_loss,color='orange')\n",
    "plt.title('Generator Loss Graph')\n",
    "plt.ylabel('Generator Loss')\n",
    "plt.xlabel('epochs')\n",
    "plt.legend([\"Generator Loss\"], loc='upper right')\n",
    "plt.savefig(\"Generator_Loss_Graph\")\n",
    "plt.show()"
   ]
  },
  {
   "cell_type": "code",
   "execution_count": 18,
   "metadata": {
    "id": "Eaf2HX2i0MV3",
    "outputId": "340a65a0-4726-46dd-fbe7-f936ab18fb12"
   },
   "outputs": [
    {
     "data": {
      "image/png": "[encoded data removed]",
      "text/plain": [
       "<Figure size 1080x504 with 1 Axes>"
      ]
     },
     "metadata": {
      "needs_background": "light"
     },
     "output_type": "display_data"
    }
   ],
   "source": [
    "plt.figure(figsize=(15,7))\n",
    "plt.plot(d_loss)\n",
    "plt.plot(g_loss)\n",
    "plt.title('Loss Graph')\n",
    "plt.ylabel('Loss')\n",
    "plt.xlabel('epochs')\n",
    "plt.legend([\"Discriminator Loss\", \"Generator Loss\"], loc='lower right')\n",
    "plt.savefig(\"Loss_Graph\")\n",
    "plt.show()"
   ]
  },
  {
   "cell_type": "markdown",
   "metadata": {
    "id": "fzogkr9dAr6c"
   },
   "source": [
    "# Prediction"
   ]
  },
  {
   "cell_type": "code",
   "execution_count": null,
   "metadata": {
    "id": "SGdHt4FStkL5",
    "outputId": "57f1fda1-c291-44b8-ea5b-a593a22003b7"
   },
   "outputs": [],
   "source": [
    "# generator = tensorflow.keras.models.load_model(\"/content/drive/MyDrive/Animo/GAN_new_approch/1/generator_model_2_1.h5\")"
   ]
  },
  {
   "cell_type": "code",
   "execution_count": null,
   "metadata": {
    "id": "3gsO4c2O7iCX",
    "outputId": "2b009235-2187-410f-9ee0-0e1f06c9cdf0"
   },
   "outputs": [],
   "source": [
    "# latent_dim = 512\n",
    "# n_samples = 16\n",
    "# z_input, labels = generate_latent_points(latent_dim, n_samples)\n",
    "# print(\"latent points(latent points and labels): \",z_input.shape, labels.shape)\n",
    "# data = [z_input,labels]\n",
    "# pred = generator.predict(data)\n",
    "# pred = (pred +1 ) / 2.0\n",
    "# print(\"\\nGenerated images with labels: \",pred.shape,'\\n')\n",
    "# save_plot(pred,n=4)"
   ]
  },
  {
   "cell_type": "markdown",
   "metadata": {
    "id": "yDpQNj8x8IsM"
   },
   "source": [
    "                                              -:END:-"
   ]
  },
  {
   "cell_type": "code",
   "execution_count": null,
   "metadata": {
    "id": "EZoifA0gJLjL"
   },
   "outputs": [],
   "source": []
  }
 ],
 "metadata": {
  "kernelspec": {
   "display_name": "Python 3 (ipykernel)",
   "language": "python",
   "name": "python3"
  },
  "language_info": {
   "codemirror_mode": {
    "name": "ipython",
    "version": 3
   },
   "file_extension": ".py",
   "mimetype": "text/x-python",
   "name": "python",
   "nbconvert_exporter": "python",
   "pygments_lexer": "ipython3",
   "version": "3.9.12"
  }
 },
 "nbformat": 4,
 "nbformat_minor": 4
}
